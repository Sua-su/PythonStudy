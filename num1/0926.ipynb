{
 "cells": [
  {
   "cell_type": "code",
   "execution_count": null,
   "id": "b4660c06",
   "metadata": {},
   "outputs": [],
   "source": [
    "import numpy as np\n",
    "\n",
    "print(np.zeros((3, 4)))\n",
    "\n",
    "print(np.ones((3,4)))\n",
    "\n",
    "print(np.eye(3))\n",
    "\n"
   ]
  },
  {
   "cell_type": "code",
   "execution_count": null,
   "id": "c170039d",
   "metadata": {},
   "outputs": [],
   "source": [
    "arr1 = np.arange(8)\n",
    "print(arr1, '\\n')\n",
    "\n",
    "arr2 = arr1.reshape(2, 4)\n",
    "print(arr2, '\\n')\n",
    "\n",
    "print(arr2.flatten(), arr2.reshape(-1))"
   ]
  },
  {
   "cell_type": "code",
   "execution_count": null,
   "id": "403a8bc5",
   "metadata": {},
   "outputs": [],
   "source": [
    "arr1 = np.arange(8).repeat(2,4)\n",
    "arr2 = np.arange(8, 16).reshape(2,4)\n",
    "\n",
    "print(arr1)\n",
    "print(arr2)\n",
    "print(np.concatenate((arr1, arr2), axis = 0))\n",
    "print(np.concatenate((arr1, arr2), axis = 1))"
   ]
  }
 ],
 "metadata": {
  "kernelspec": {
   "display_name": "PythonStudy (3.13.7)",
   "language": "python",
   "name": "python3"
  },
  "language_info": {
   "name": "python",
   "version": "3.13.7"
  }
 },
 "nbformat": 4,
 "nbformat_minor": 5
}
