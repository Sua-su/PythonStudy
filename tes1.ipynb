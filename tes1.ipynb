{
 "cells": [
  {
   "cell_type": "code",
   "execution_count": null,
   "id": "0bcd389a",
   "metadata": {},
   "outputs": [],
   "source": [
    "s1 = 'nice to meet you'\n",
    "print(s1.count('o'), s1.count('e'), s1.count('t'))\n",
    "\n",
    "s2 = \"hello world\"\n",
    "print(s2.count('o'), s2.count('e'), s2.count('l'))"
   ]
  },
  {
   "cell_type": "code",
   "execution_count": null,
   "id": "34fdebeb",
   "metadata": {},
   "outputs": [],
   "source": [
    "a, b = 2, 3\n",
    "print ('{} * {} = {}'.format(a, b, a*b))\n",
    "print('{0} * {1} = {2}'.format(a, b, a*b))\n",
    "print( '{a} * {b} = {c}'.format(a=a, b=b, c=a*b))\n",
    "print('{0} * {1} = {2:3d}'.format([a, b, a*b]))\n",
    "print('{0} / {1} = {2:1f}'.format(a, b, a/b))\n",
    "\n",
    "print('{0:<10} | {1:^10} | {2:>10}'.format(a, b, a*b))\n",
    "print('{0:^10} | {1:^10} | {2:^10}'.format(a, b, a*b))\n",
    "print('{0:>10} | {1:^10} | {2:<10}'.format(a, b, a*b))"
   ]
  },
  {
   "cell_type": "code",
   "execution_count": null,
   "id": "ca619e59",
   "metadata": {},
   "outputs": [],
   "source": [
    "import wikimedia\n",
    "\n",
    "wiki = wikimedia.page(\"Deep Learning\")\n",
    "text = wiki.content"
   ]
  },
  {
   "cell_type": "code",
   "execution_count": null,
   "id": "50607140",
   "metadata": {},
   "outputs": [],
   "source": [
    "from wordcloud import wordcloud\n",
    "\n",
    "wordcloud = wordCloud(width=200, height=1500).generate(text)"
   ]
  },
  {
   "cell_type": "code",
   "execution_count": null,
   "id": "5219359b",
   "metadata": {},
   "outputs": [],
   "source": [
    "import matplotlib.pyplot as plt\n",
    "plt.figure(figsize=(40,30))\n",
    "plt.imshow(wordcloud)\n",
    "plt.show"
   ]
  }
 ],
 "metadata": {
  "kernelspec": {
   "display_name": ".venv (3.13.5)",
   "language": "python",
   "name": "python3"
  },
  "language_info": {
   "name": "python",
   "version": "3.13.5"
  }
 },
 "nbformat": 4,
 "nbformat_minor": 5
}
